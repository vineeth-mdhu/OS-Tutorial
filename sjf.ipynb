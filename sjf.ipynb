
jobs=[[1,2,0],[0,8,1],[5,6,2],[3,4,3],[10,1,4],[4,1,5],[6,5,6]]
jobs.sort(key=lambda x:x[0])

class job:
  def __init__(self,at,bt,id):
    self.id=id
    self.at=at
    self.bt=bt

  def __lt__(self,other):
    return self.bt<other.bt
    
import heapq
time=0
heap=[job(jobs[0][0],jobs[0][1],jobs[0][2])]
i=0
j=1
heapq.heapify(heap)
print("id","at"," bt","  ct"," tat"," wt")
while i<len(jobs):
  curr=heapq.heappop(heap)
  time+=curr.bt
  print(curr.id," ",curr.at," ",curr.bt," ",time," ",time-curr.at," ",time-curr.at-curr.bt)
  while(j<len(jobs) and jobs[j][0]<time):
    heapq.heappush(heap,job(jobs[j][0],jobs[j][1],jobs[j][2]))
    j+=1
  i+=1

