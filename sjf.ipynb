{
  "nbformat": 4,
  "nbformat_minor": 0,
  "metadata": {
    "colab": {
      "name": "Untitled1.ipynb",
      "provenance": [],
      "collapsed_sections": []
    },
    "kernelspec": {
      "name": "python3",
      "display_name": "Python 3"
    },
    "language_info": {
      "name": "python"
    }
  },
  "cells": [
    {
      "cell_type": "code",
      "execution_count": null,
      "metadata": {
        "id": "JdO92Xp_dRTd"
      },
      "outputs": [],
      "source": [
        "\n",
        "jobs=[[1,2,0],[0,8,1],[5,6,2],[3,4,3],[10,1,4],[4,1,5],[6,5,6]]\n",
        "jobs.sort(key=lambda x:x[0])\n"
      ]
    },
    {
      "cell_type": "code",
      "source": [
        "class job:\n",
        "  def __init__(self,at,bt,id):\n",
        "    self.id=id\n",
        "    self.at=at\n",
        "    self.bt=bt\n",
        "\n",
        "  def __lt__(self,other):\n",
        "    return self.bt<other.bt"
      ],
      "metadata": {
        "id": "PIeyuVhKbU_T"
      },
      "execution_count": null,
      "outputs": []
    },
    {
      "cell_type": "code",
      "source": [
        "import heapq\n",
        "time=0\n",
        "heap=[job(jobs[0][0],jobs[0][1],jobs[0][2])]\n",
        "i=0\n",
        "j=1\n",
        "heapq.heapify(heap)\n",
        "print(\"id\",\"at\",\" bt\",\"  ct\",\" tat\",\" wt\")\n",
        "while i<len(jobs):\n",
        "  curr=heapq.heappop(heap)\n",
        "  time+=curr.bt\n",
        "  print(curr.id,\" \",curr.at,\" \",curr.bt,\" \",time,\" \",time-curr.at,\" \",time-curr.at-curr.bt)\n",
        "  while(j<len(jobs) and jobs[j][0]<time):\n",
        "    heapq.heappush(heap,job(jobs[j][0],jobs[j][1],jobs[j][2]))\n",
        "    j+=1\n",
        "  i+=1\n",
        "\n"
      ],
      "metadata": {
        "colab": {
          "base_uri": "https://localhost:8080/"
        },
        "id": "19tKsHx4dpCC",
        "outputId": "9c8605ad-8754-4c90-dfaa-1a6d3dfc9ff7"
      },
      "execution_count": null,
      "outputs": [
        {
          "output_type": "stream",
          "name": "stdout",
          "text": [
            "id at  bt   ct  tat  wt\n",
            "1   0   8   8   8   0\n",
            "5   4   1   9   5   4\n",
            "0   1   2   11   10   8\n",
            "4   10   1   12   2   1\n",
            "3   3   4   16   13   9\n",
            "6   6   5   21   15   10\n",
            "2   5   6   27   22   16\n"
          ]
        }
      ]
    },
    {
      "cell_type": "code",
      "source": [
        ""
      ],
      "metadata": {
        "id": "bt3xjuQsh7kA"
      },
      "execution_count": null,
      "outputs": []
    }
  ]
}
